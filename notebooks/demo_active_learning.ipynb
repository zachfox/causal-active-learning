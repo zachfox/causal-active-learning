{
 "cells": [
  {
   "cell_type": "code",
   "execution_count": 7,
   "id": "8c6b9353",
   "metadata": {},
   "outputs": [],
   "source": [
    "import src.model_utils as mu\n",
    "import numpy as np\n",
    "import matplotlib as mpl\n",
    "mpl.rcParams['font.family'] = 'serif'\n",
    "mpl.rcParams['mathtext.fontset'] = 'stix'\n",
    "import matplotlib.pyplot as plt\n",
    "import lingam\n",
    "import graphviz\n",
    "from lingam.utils import make_prior_knowledge\n",
    "from sklearn.preprocessing import StandardScaler\n",
    "from sklearn.metrics import r2_score\n",
    "import pandas as pd\n",
    "from importlib import reload\n",
    "import netcomp as nc\n",
    "\n",
    "import rdkit \n",
    "from rdkit.Chem import rdFingerprintGenerator\n",
    "from rdkit import Chem\n",
    "from rdkit.Chem import Draw\n",
    "from rdkit.Chem.Draw import IPythonConsole, rdMolDraw2D\n",
    "from IPython.display import SVG\n",
    "\n",
    "from sklearn.decomposition import PCA\n",
    "\n",
    "import os\n",
    "\n",
    "import warnings\n",
    "from sklearn.exceptions import ConvergenceWarning\n",
    "\n",
    "warnings.filterwarnings(\"ignore\", category=FutureWarning) \n",
    "warnings.filterwarnings(\"ignore\", category=ConvergenceWarning)\n"
   ]
  },
  {
   "cell_type": "markdown",
   "id": "5b55f7d7-53de-4ac9-8d5d-bca0806119e0",
   "metadata": {},
   "source": [
    "# Demonstration of active learning workflow\n",
    "\n",
    "1. Load each data subset\n",
    "2. Down-select features\n",
    "3. Active learning to match global adjacency matrix "
   ]
  },
  {
   "cell_type": "markdown",
   "id": "e737d596-d7c8-4585-85d2-15153174b815",
   "metadata": {},
   "source": [
    "## Load the entire featurized QM9 dataset and each data split "
   ]
  },
  {
   "cell_type": "code",
   "execution_count": 32,
   "id": "19450903-9586-4eb3-9b67-cb925c232b73",
   "metadata": {},
   "outputs": [],
   "source": [
    "data_path = '../data/processed/'"
   ]
  },
  {
   "cell_type": "code",
   "execution_count": 22,
   "id": "5ee5cb93",
   "metadata": {},
   "outputs": [],
   "source": [
    "all_data = [pd.read_csv(os.path.join(data_path,'all_data.csv'))]\n",
    "for i in range(3):\n",
    "    all_data.append(pd.read_csv(os.path.join(data_path,'split_class_{0}.csv'.format(i))))\n",
    "    "
   ]
  },
  {
   "cell_type": "markdown",
   "id": "2dc26b8a-7c2d-45e4-a27c-bb85919ef8da",
   "metadata": {},
   "source": [
    "## Generate DAGs for each data subset and the full dataset. \n",
    "Using the down-selected features based on polarizability, listed as `ranked_features`, we next build the DAGs using `LinGAM`. "
   ]
  },
  {
   "cell_type": "code",
   "execution_count": 24,
   "id": "82f7c785",
   "metadata": {},
   "outputs": [],
   "source": [
    "# down-select features based on polarizability causal influence\n",
    "# df, ranked_features, adj_matrix, _ = mu.select_features(all_data[0],\n",
    "#                                                      nkeep=9)\n",
    "ranked_features = ['NHOHCount','NumAliphaticCarbocycles','NumHeteroatoms','NOCount',\n",
    "                   'RingCount','NumValenceElectrons','HeavyAtomMolWt','ExactMolWt',\n",
    "                   'MaxPartialCharge','dipole']\n",
    "\n",
    "all_adj, all_df = [], []\n",
    "# all_df.append(all_data[0][['smiles']+ranked_features])\n",
    "# all_adj.append(adj_matrix)\n",
    "for k in range(4):\n",
    "    df_now = all_data[k][ranked_features]\n",
    "\n",
    "    # run causal inference on down-selected features\n",
    "    target_column_ind = list(df_now.columns).index('dipole')\n",
    "    model = mu.causal_inference(df_now, target_col=target_column_ind)\n",
    "\n",
    "    d = mu.make_graph(model.adjacency_matrix_, labels=list(df_now.columns))\n",
    "    # d.render('figures/data_subset_{0}'.format(k))\n",
    "    \n",
    "    all_adj.append(model.adjacency_matrix_)\n",
    "    all_df.append(all_data[k][['smiles']+ranked_features])\n"
   ]
  },
  {
   "cell_type": "code",
   "execution_count": 25,
   "id": "7b65a878",
   "metadata": {},
   "outputs": [],
   "source": [
    "df_now = all_data[0][ranked_features]\n",
    "target_column_ind = list(df_now.columns).index('dipole')\n",
    "model = mu.causal_inference(df_now, target_col=target_column_ind)\n",
    "global_adj = model.adjacency_matrix_\n",
    "# d = mu.make_graph(model.adjacency_matrix_, labels=list(df_now.columns))\n",
    "# d.render('figures/feature_subset_global')"
   ]
  },
  {
   "cell_type": "markdown",
   "id": "fce64d21-efca-4c5f-ab8e-5bacfe69b0f9",
   "metadata": {},
   "source": [
    "## Perform active learning loop "
   ]
  },
  {
   "cell_type": "code",
   "execution_count": 28,
   "id": "6cdbb80e",
   "metadata": {},
   "outputs": [],
   "source": [
    "np.random.seed = 11"
   ]
  },
  {
   "cell_type": "code",
   "execution_count": 26,
   "id": "24b923ae",
   "metadata": {},
   "outputs": [
    {
     "data": {
      "application/vnd.jupyter.widget-view+json": {
       "model_id": "385f4e8c30d248279411e242e0a7196a",
       "version_major": 2,
       "version_minor": 0
      },
      "text/plain": [
       "  0%|          | 0/40 [00:00<?, ?it/s]"
      ]
     },
     "metadata": {},
     "output_type": "display_data"
    },
    {
     "name": "stderr",
     "output_type": "stream",
     "text": [
      "/Users/z6f/anaconda3/envs/causal_zf/lib/python3.9/site-packages/sklearn/linear_model/_least_angle.py:2293: RuntimeWarning: divide by zero encountered in log\n",
      "  n_samples * np.log(2 * np.pi * self.noise_variance_)\n",
      "/Users/z6f/anaconda3/envs/causal_zf/lib/python3.9/site-packages/sklearn/linear_model/_least_angle.py:2294: RuntimeWarning: divide by zero encountered in divide\n",
      "  + residuals_sum_squares / self.noise_variance_\n",
      "/Users/z6f/anaconda3/envs/causal_zf/lib/python3.9/site-packages/sklearn/linear_model/_least_angle.py:2293: RuntimeWarning: invalid value encountered in add\n",
      "  n_samples * np.log(2 * np.pi * self.noise_variance_)\n"
     ]
    },
    {
     "data": {
      "application/vnd.jupyter.widget-view+json": {
       "model_id": "09a6ebc00a9c4dc9a20e9fa858438821",
       "version_major": 2,
       "version_minor": 0
      },
      "text/plain": [
       "  0%|          | 0/40 [00:00<?, ?it/s]"
      ]
     },
     "metadata": {},
     "output_type": "display_data"
    },
    {
     "data": {
      "application/vnd.jupyter.widget-view+json": {
       "model_id": "2fd435147b344cf28e57d78396437f97",
       "version_major": 2,
       "version_minor": 0
      },
      "text/plain": [
       "  0%|          | 0/40 [00:00<?, ?it/s]"
      ]
     },
     "metadata": {},
     "output_type": "display_data"
    },
    {
     "data": {
      "application/vnd.jupyter.widget-view+json": {
       "model_id": "fef4802de0724e1ea4bf4b8db09e66bb",
       "version_major": 2,
       "version_minor": 0
      },
      "text/plain": [
       "  0%|          | 0/40 [00:00<?, ?it/s]"
      ]
     },
     "metadata": {},
     "output_type": "display_data"
    },
    {
     "data": {
      "application/vnd.jupyter.widget-view+json": {
       "model_id": "059217ddd6174f1d90cb780565a909b4",
       "version_major": 2,
       "version_minor": 0
      },
      "text/plain": [
       "  0%|          | 0/40 [00:00<?, ?it/s]"
      ]
     },
     "metadata": {},
     "output_type": "display_data"
    },
    {
     "data": {
      "application/vnd.jupyter.widget-view+json": {
       "model_id": "9139ac26b0274f3ebfe21b65c2dace3f",
       "version_major": 2,
       "version_minor": 0
      },
      "text/plain": [
       "  0%|          | 0/40 [00:00<?, ?it/s]"
      ]
     },
     "metadata": {},
     "output_type": "display_data"
    },
    {
     "data": {
      "application/vnd.jupyter.widget-view+json": {
       "model_id": "56d6d80e84064e57864ecb77ef72670d",
       "version_major": 2,
       "version_minor": 0
      },
      "text/plain": [
       "  0%|          | 0/40 [00:00<?, ?it/s]"
      ]
     },
     "metadata": {},
     "output_type": "display_data"
    },
    {
     "data": {
      "application/vnd.jupyter.widget-view+json": {
       "model_id": "a8da41145d174264974cfc1624c4c641",
       "version_major": 2,
       "version_minor": 0
      },
      "text/plain": [
       "  0%|          | 0/40 [00:00<?, ?it/s]"
      ]
     },
     "metadata": {},
     "output_type": "display_data"
    },
    {
     "data": {
      "application/vnd.jupyter.widget-view+json": {
       "model_id": "20277a677fde461fa8a3dd5872102227",
       "version_major": 2,
       "version_minor": 0
      },
      "text/plain": [
       "  0%|          | 0/40 [00:00<?, ?it/s]"
      ]
     },
     "metadata": {},
     "output_type": "display_data"
    },
    {
     "data": {
      "application/vnd.jupyter.widget-view+json": {
       "model_id": "8cdb1f8a2bd84a919239c633c8e9b361",
       "version_major": 2,
       "version_minor": 0
      },
      "text/plain": [
       "  0%|          | 0/40 [00:00<?, ?it/s]"
      ]
     },
     "metadata": {},
     "output_type": "display_data"
    }
   ],
   "source": [
    "all_gscores_active = []\n",
    "all_scores_active = []\n",
    "all_subsets_active = []\n",
    "for k in range(10):\n",
    "    n0 = 1\n",
    "    rand_id = np.arange(len(all_df[0]))\n",
    "    np.random.shuffle(rand_id)\n",
    "    id0 = rand_id[:n0]\n",
    "\n",
    "    active_df = all_df[0].loc[id0]\n",
    "    active_df.reset_index(drop=True)\n",
    "    n_iter=40\n",
    "\n",
    "    active_out = mu.run_active_loop(all_df, active_df, n_iter, global_adj, 20)\n",
    "    scores_active, gscores_active, choices_active, adjs_active, subsets_active, active_df = active_out\n",
    "    \n",
    "    all_gscores_active.append(gscores_active)\n",
    "    all_scores_active.append(scores_active)\n",
    "    all_subsets_active.append(subsets_active)"
   ]
  },
  {
   "cell_type": "markdown",
   "id": "8b7c01f5-1682-4726-8db9-e8545ddf965f",
   "metadata": {},
   "source": [
    "## Perform the control (random) loop "
   ]
  },
  {
   "cell_type": "code",
   "execution_count": 27,
   "id": "31d32598",
   "metadata": {},
   "outputs": [
    {
     "data": {
      "application/vnd.jupyter.widget-view+json": {
       "model_id": "7940be9af1fd472ab1e2f4ed502bd690",
       "version_major": 2,
       "version_minor": 0
      },
      "text/plain": [
       "  0%|          | 0/40 [00:00<?, ?it/s]"
      ]
     },
     "metadata": {},
     "output_type": "display_data"
    },
    {
     "data": {
      "application/vnd.jupyter.widget-view+json": {
       "model_id": "3fa3bb5af02845beb5def096a86de8ac",
       "version_major": 2,
       "version_minor": 0
      },
      "text/plain": [
       "  0%|          | 0/40 [00:00<?, ?it/s]"
      ]
     },
     "metadata": {},
     "output_type": "display_data"
    },
    {
     "data": {
      "application/vnd.jupyter.widget-view+json": {
       "model_id": "bf1099d430844c2c997a19677ccf98ee",
       "version_major": 2,
       "version_minor": 0
      },
      "text/plain": [
       "  0%|          | 0/40 [00:00<?, ?it/s]"
      ]
     },
     "metadata": {},
     "output_type": "display_data"
    },
    {
     "data": {
      "application/vnd.jupyter.widget-view+json": {
       "model_id": "ddc215fc650640b982a2b32b797d40a0",
       "version_major": 2,
       "version_minor": 0
      },
      "text/plain": [
       "  0%|          | 0/40 [00:00<?, ?it/s]"
      ]
     },
     "metadata": {},
     "output_type": "display_data"
    },
    {
     "data": {
      "application/vnd.jupyter.widget-view+json": {
       "model_id": "9154ad3db6f444b2bc6b71720bf2b208",
       "version_major": 2,
       "version_minor": 0
      },
      "text/plain": [
       "  0%|          | 0/40 [00:00<?, ?it/s]"
      ]
     },
     "metadata": {},
     "output_type": "display_data"
    },
    {
     "data": {
      "application/vnd.jupyter.widget-view+json": {
       "model_id": "2ac2bd06929545be9c0e3c817d69f4c2",
       "version_major": 2,
       "version_minor": 0
      },
      "text/plain": [
       "  0%|          | 0/40 [00:00<?, ?it/s]"
      ]
     },
     "metadata": {},
     "output_type": "display_data"
    },
    {
     "data": {
      "application/vnd.jupyter.widget-view+json": {
       "model_id": "53e8b6b0677c40adbb0948797eb89079",
       "version_major": 2,
       "version_minor": 0
      },
      "text/plain": [
       "  0%|          | 0/40 [00:00<?, ?it/s]"
      ]
     },
     "metadata": {},
     "output_type": "display_data"
    },
    {
     "data": {
      "application/vnd.jupyter.widget-view+json": {
       "model_id": "ddae3b3609dd4d96b328bbaa2f6b7e4e",
       "version_major": 2,
       "version_minor": 0
      },
      "text/plain": [
       "  0%|          | 0/40 [00:00<?, ?it/s]"
      ]
     },
     "metadata": {},
     "output_type": "display_data"
    },
    {
     "data": {
      "application/vnd.jupyter.widget-view+json": {
       "model_id": "90988836cd5e4b669d23673ab716c474",
       "version_major": 2,
       "version_minor": 0
      },
      "text/plain": [
       "  0%|          | 0/40 [00:00<?, ?it/s]"
      ]
     },
     "metadata": {},
     "output_type": "display_data"
    },
    {
     "data": {
      "application/vnd.jupyter.widget-view+json": {
       "model_id": "9aefae56f59f43ad84b82c64d2e47df6",
       "version_major": 2,
       "version_minor": 0
      },
      "text/plain": [
       "  0%|          | 0/40 [00:00<?, ?it/s]"
      ]
     },
     "metadata": {},
     "output_type": "display_data"
    }
   ],
   "source": [
    "all_gscores_random = []\n",
    "all_scores_random = []\n",
    "all_subsets_random = []\n",
    "for k in range(10):\n",
    "    rand_df = all_df[0].loc[id0]\n",
    "    rand_df.reset_index(drop=True)\n",
    "\n",
    "    n_iter=40\n",
    "    random_out = mu.run_random_loop(all_df, rand_df, n_iter, global_adj, 20)\n",
    "    scores_random, gscores_random, choices_random, adjs_random, subsets_random, random_df = random_out\n",
    "    \n",
    "    all_gscores_random.append(gscores_random)\n",
    "    all_scores_random.append(scores_random)\n",
    "    all_subsets_random.append(subsets_random)\n",
    "    "
   ]
  },
  {
   "cell_type": "markdown",
   "id": "fd239fc4-6e76-4653-9638-e8d2148698c4",
   "metadata": {},
   "source": [
    "## Visualization "
   ]
  },
  {
   "cell_type": "code",
   "execution_count": 28,
   "id": "a7f9b693",
   "metadata": {},
   "outputs": [
    {
     "data": {
      "image/png": "[encoded data removed]",
      "text/plain": [
       "<Figure size 300x200 with 1 Axes>"
      ]
     },
     "metadata": {},
     "output_type": "display_data"
    }
   ],
   "source": [
    "f,ax = plt.subplots(figsize=(3,2))\n",
    "mean_active = np.mean(all_gscores_active,axis=0)\n",
    "std_active = np.std(all_gscores_active,axis=0)\n",
    "ax.fill_between(np.arange(len(mean_active)), mean_active-std_active, mean_active+std_active,facecolor='indianred',alpha=0.5)\n",
    "ax.plot(mean_active, c='indianred', linewidth=1, label='active')\n",
    "# ax.plot(np.arange(len(mean_active)), np.array(all_gscores_active).T, linewidth=.2, c='indianred')\n",
    "\n",
    "mean_random = np.mean(all_gscores_random,axis=0)\n",
    "std_random = np.std(all_gscores_random,axis=0)\n",
    "ax.fill_between(np.arange(len(mean_active)), mean_random-std_random, mean_random+std_random, facecolor='gray', alpha=0.5)\n",
    "ax.plot(mean_random, c='k',linewidth=1, label='random')\n",
    "# ax.plot(np.arange(len(mean_random)), np.array(all_gscores_random).T, linewidth=.2, c='gray')\n",
    "\n",
    "\n",
    "# ax.plot(gscores_random,c='k',linewidth=1,linestyle='--',label='random')\n",
    "ax.set_xlabel('iteration')\n",
    "ax.set_ylabel('graph distance')\n",
    "ax.spines[['right', 'top']].set_visible(False)\n",
    "ax.set_ylim([0,15])\n",
    "ax.legend(frameon=False,fontsize=10)\n",
    "f.tight_layout()\n",
    "\n",
    "# save the figures \n",
    "# f.savefig('figures/active_vs_random_graph.eps')\n",
    "# f.savefig('figures/active_vs_random_graph.pdf')"
   ]
  },
  {
   "cell_type": "code",
   "execution_count": 29,
   "id": "b7b090b5",
   "metadata": {},
   "outputs": [
    {
     "data": {
      "image/png": "[encoded data removed]",
      "text/plain": [
       "<Figure size 300x200 with 1 Axes>"
      ]
     },
     "metadata": {},
     "output_type": "display_data"
    }
   ],
   "source": [
    "all_r2 = []\n",
    "all_r2_rand = []\n",
    "for k in range(10):\n",
    "    for scores_active in all_scores_active:\n",
    "        all_r2.append([score['R^2'] for score in scores_active])\n",
    "    for scores_random in all_scores_random:\n",
    "        all_r2_rand.append([score['R^2'] for score in scores_random])\n",
    "    \n",
    "r2_global = 0.51\n",
    "\n",
    "f,ax = plt.subplots(figsize=(3,2))\n",
    "mean_active = np.mean(all_r2,axis=0)\n",
    "std_active = np.std(all_r2,axis=0)\n",
    "ax.fill_between(np.arange(len(mean_active)), mean_active-std_active, mean_active+std_active,facecolor='indianred',alpha=0.5)\n",
    "ax.plot(mean_active, c='indianred', linewidth=1, label='active')\n",
    "# ax.plot(np.arange(len(mean_active)), np.array(all_gscores_active).T, linewidth=.2, c='indianred')\n",
    "\n",
    "mean_random = np.mean(all_r2_rand,axis=0)\n",
    "std_random = np.std(all_r2_rand,axis=0)\n",
    "ax.fill_between(np.arange(len(mean_active)), mean_random-std_random, mean_random+std_random, facecolor='gray', alpha=0.5)\n",
    "ax.plot(mean_random, c='k',linewidth=1, label='random')\n",
    "\n",
    "ax.plot(ax.get_xlim(),[.51,.51],'k--',linewidth=1)\n",
    "ax.set_ylim([-.5,.6])\n",
    "ax.set_xlabel('iteration')\n",
    "ax.set_ylabel('$R^2$',size=13)\n",
    "ax.spines[['right', 'top']].set_visible(False)\n",
    "ax.legend(frameon=False,fontsize=10)\n",
    "f.tight_layout()\n",
    "\n",
    "# save the figures \n",
    "# f.savefig('figures/active_vs_random_r2.eps')\n",
    "# f.savefig('figures/active_vs_random_r2.pdf')"
   ]
  },
  {
   "cell_type": "markdown",
   "id": "2370a346-bcd1-4fc1-8136-c81fd0f419a6",
   "metadata": {},
   "source": [
    "# Analysis of the chemical space "
   ]
  },
  {
   "cell_type": "code",
   "execution_count": 22,
   "id": "49daf106",
   "metadata": {},
   "outputs": [],
   "source": [
    "# generate the ECFPs for the actively-learned dataset (better to only run once and save)\n",
    "all_fp_active = []\n",
    "for mol in active_df['smiles'].to_list():\n",
    "    all_fp_active.append(mu.ECFP_from_smiles(mol))"
   ]
  },
  {
   "cell_type": "code",
   "execution_count": null,
   "id": "ca754446-28a2-414a-bb88-ab56d4066ce7",
   "metadata": {},
   "outputs": [],
   "source": [
    "# generate the ECFPs for each subset (better to only run once and save)\n",
    "for i in range(1,4):\n",
    "    X = get_data_fingerprints(all_data[i])\n",
    "    np.save('fingerprint_subset_{0}.npy'.format(i),X)\n",
    "    "
   ]
  },
  {
   "cell_type": "code",
   "execution_count": 33,
   "id": "5092f1fc-b867-414e-a752-d85eb12e563c",
   "metadata": {},
   "outputs": [],
   "source": [
    "# describe the chemical space according to the entire QM9 dataset \n",
    "all_data_fp = np.load(os.path.join(data_path,'all_data_fp.npy'))\n",
    "all_reducer = PCA(n_components=None, svd_solver='full')\n",
    "all_reducer.fit(all_data_fp)\n",
    "all_data_embedding = all_reducer.transform(all_data_fp)"
   ]
  },
  {
   "cell_type": "code",
   "execution_count": 34,
   "id": "1eab17e5",
   "metadata": {},
   "outputs": [
    {
     "name": "stdout",
     "output_type": "stream",
     "text": [
      "1.0 0.0\n"
     ]
    },
    {
     "data": {
      "image/png": "[encoded data removed]",
      "text/plain": [
       "<Figure size 300x260 with 1 Axes>"
      ]
     },
     "metadata": {},
     "output_type": "display_data"
    }
   ],
   "source": [
    "# plot the chemical space based on ranked features from QM9\n",
    "f, ax = plt.subplots(figsize=(3,2.6))\n",
    "nsample = all_data_embedding.shape[0]//2\n",
    "BCTX, BCTY, hist2d=mu.getcolordensity_contour(all_data_embedding[nsample:, 0], all_data_embedding[nsample:, 1])\n",
    "print(np.max(hist2d),np.min(hist2d))\n",
    "ax.contourf(BCTX, BCTY, hist2d, vmin=0.0, vmax=1,levels=25, cmap=\"Blues\")#, alpha=0.5)\n",
    "ax.set_xlabel(r'$\\phi_1$')\n",
    "ax.set_ylabel(r'$\\phi_2$')\n",
    "f.tight_layout()\n"
   ]
  },
  {
   "cell_type": "code",
   "execution_count": 36,
   "id": "6873afec",
   "metadata": {},
   "outputs": [
    {
     "data": {
      "image/png": "[encoded data removed]",
      "text/plain": [
       "<Figure size 600x200 with 3 Axes>"
      ]
     },
     "metadata": {},
     "output_type": "display_data"
    }
   ],
   "source": [
    "\n",
    "f,ax = plt.subplots(1,3,figsize=(6,2))\n",
    "all_inds = [[44872,  4549, 50746],[ 613,  4371, 34573],[24657,  6792, 25932]]\n",
    "colors = ['r','g','b']\n",
    "for i in range(1,4):\n",
    "    X = np.load(os.path.join(data_path,'fingerprint_subset_{0}.npy'.format(i)))\n",
    "    embedding = all_reducer.transform(X)\n",
    "    BCTX, BCTY, hist2d=mu.getcolordensity_contour(embedding[:, 0], embedding[:, 1])\n",
    "    # print(np.max(hist2d),np.min(hist2d))\n",
    "    # hist2d[hist2d<.05] = np.nan\n",
    "    inds = all_inds[i-1]\n",
    "    ax[i-1].contourf(BCTX, BCTY, hist2d, vmin=0.0, vmax=1,levels=25, cmap=\"Reds\")#, alpha=0.5)\n",
    "    ax[i-1].scatter(embedding[inds,0],embedding[inds,1],c=colors,s=12)\n",
    "    ax[i-1].set_xlabel('$\\phi_1$',size=12)\n",
    "    ax[i-1].set_ylabel('$\\phi_2$',size=12)\n",
    "    # draw the molecules\n",
    "    mols = []\n",
    "    for k in range(3):\n",
    "        smiles = all_data[i]['smiles'].loc[k]\n",
    "        molecule = Chem.MolFromSmiles(smiles)\n",
    "        mols.append(molecule)\n",
    "   # mu.draw_molecules(mols,'subset_{0}'.format(i))\n",
    "f.tight_layout()\n",
    "\n",
    "# save the figues \n",
    "# f.savefig('example_molecules_subsets.pdf')"
   ]
  },
  {
   "cell_type": "code",
   "execution_count": null,
   "id": "53bf987b-ce5a-42a4-b1ff-eb687632d287",
   "metadata": {},
   "outputs": [],
   "source": []
  }
 ],
 "metadata": {
  "kernelspec": {
   "display_name": "Python 3 (ipykernel)",
   "language": "python",
   "name": "python3"
  },
  "language_info": {
   "codemirror_mode": {
    "name": "ipython",
    "version": 3
   },
   "file_extension": ".py",
   "mimetype": "text/x-python",
   "name": "python",
   "nbconvert_exporter": "python",
   "pygments_lexer": "ipython3",
   "version": "3.9.18"
  }
 },
 "nbformat": 4,
 "nbformat_minor": 5
}
